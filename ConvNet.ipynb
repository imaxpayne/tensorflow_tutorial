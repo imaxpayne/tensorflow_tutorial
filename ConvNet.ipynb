{
 "cells": [
  {
   "cell_type": "markdown",
   "metadata": {},
   "source": [
    "# Convolutional Neural Net \n",
    "\n",
    "This is the forth introduction on Tensorflow for RVL224 students\n",
    "\n",
    "In this section you will learn:\n",
    "\n",
    "* How to build a ConvNet to classify images\n",
    "* How to save and restore trained parameters in neural net\n"
   ]
  },
  {
   "cell_type": "code",
   "execution_count": 1,
   "metadata": {
    "collapsed": true
   },
   "outputs": [],
   "source": [
    "import numpy as np\n",
    "import tensorflow as tf\n",
    "import matplotlib.pyplot as plt\n",
    "from tensorflow.examples.tutorials.mnist import input_data\n",
    "%matplotlib inline"
   ]
  },
  {
   "cell_type": "code",
   "execution_count": 2,
   "metadata": {
    "collapsed": false
   },
   "outputs": [
    {
     "name": "stdout",
     "output_type": "stream",
     "text": [
      "Successfully downloaded train-images-idx3-ubyte.gz 9912422 bytes.\n",
      "Extracting /tmp/data/train-images-idx3-ubyte.gz\n",
      "Successfully downloaded train-labels-idx1-ubyte.gz 28881 bytes.\n",
      "Extracting /tmp/data/train-labels-idx1-ubyte.gz\n",
      "Successfully downloaded t10k-images-idx3-ubyte.gz 1648877 bytes.\n",
      "Extracting /tmp/data/t10k-images-idx3-ubyte.gz\n",
      "Successfully downloaded t10k-labels-idx1-ubyte.gz 4542 bytes.\n",
      "Extracting /tmp/data/t10k-labels-idx1-ubyte.gz\n"
     ]
    }
   ],
   "source": [
    "mnist  = input_data.read_data_sets('/tmp/data/', one_hot=True) #load dataset\n",
    "train_img   = mnist.train.images\n",
    "train_label = mnist.train.labels\n",
    "test_img    = mnist.test.images\n",
    "test_label  = mnist.test.labels"
   ]
  },
  {
   "cell_type": "code",
   "execution_count": 15,
   "metadata": {
    "collapsed": true
   },
   "outputs": [],
   "source": [
    "learning_rate = 0.001\n",
    "training_iters = 200\n",
    "batch_size = 128\n",
    "display_step = 10\n",
    "\n",
    "# Network Parameters\n",
    "n_input = 784 # MNIST data input (img shape: 28*28)\n",
    "n_classes = 10 # MNIST total classes (0-9 digits)\n",
    "dropout = 0.75 # Dropout, probability to keep units\n",
    "\n",
    "# tf Graph input\n",
    "x = tf.placeholder('float', [None, n_input])\n",
    "y = tf.placeholder('float', [None, n_classes])\n",
    "keep_prob = tf.placeholder('float') #dropout (keep probability)"
   ]
  },
  {
   "cell_type": "code",
   "execution_count": 16,
   "metadata": {
    "collapsed": true
   },
   "outputs": [],
   "source": [
    "def conv2d(x, W, b, strides=1):\n",
    "    # Conv2D wrapper, with bias and relu activation\n",
    "    x = tf.nn.conv2d(x, W, strides=[1, strides, strides, 1], padding='SAME')\n",
    "    x = tf.nn.bias_add(x, b)\n",
    "    return tf.nn.relu(x)\n",
    "\n",
    "\n",
    "def maxpool2d(x, k=2):\n",
    "    # MaxPool2D wrapper\n",
    "    return tf.nn.max_pool(x, ksize=[1, k, k, 1], strides=[1, k, k, 1],\n",
    "                          padding='SAME')\n",
    "\n",
    "\n",
    "# Create model\n",
    "def conv_net(x, weights, biases, dropout):\n",
    "    # Reshape input picture\n",
    "    x = tf.reshape(x, shape=[-1, 28, 28, 1])\n",
    "\n",
    "    # Convolution Layer\n",
    "    conv1 = conv2d(x, weights['wc1'], biases['bc1'])\n",
    "    # Max Pooling (down-sampling)\n",
    "    conv1 = maxpool2d(conv1, k=2)\n",
    "\n",
    "    # Convolution Layer\n",
    "    conv2 = conv2d(conv1, weights['wc2'], biases['bc2'])\n",
    "    # Max Pooling (down-sampling)\n",
    "    conv2 = maxpool2d(conv2, k=2)\n",
    "\n",
    "    # Fully connected layer\n",
    "    # Reshape conv2 output to fit fully connected layer input\n",
    "    fc1 = tf.reshape(conv2, [-1, weights['wd1'].get_shape().as_list()[0]])\n",
    "    fc1 = tf.add(tf.matmul(fc1, weights['wd1']), biases['bd1'])\n",
    "    fc1 = tf.nn.relu(fc1)\n",
    "    # Apply Dropout\n",
    "    fc1 = tf.nn.dropout(fc1, dropout)\n",
    "\n",
    "    # Output, class prediction\n",
    "    out = tf.add(tf.matmul(fc1, weights['out']), biases['out'])\n",
    "    return out"
   ]
  },
  {
   "cell_type": "code",
   "execution_count": 17,
   "metadata": {
    "collapsed": true
   },
   "outputs": [],
   "source": [
    "weights = {\n",
    "    # 5x5 conv, 1 input, 32 outputs\n",
    "    'wc1': tf.Variable(tf.random_normal([5, 5, 1, 32])),\n",
    "    # 5x5 conv, 32 inputs, 64 outputs\n",
    "    'wc2': tf.Variable(tf.random_normal([5, 5, 32, 64])),\n",
    "    # fully connected, 7*7*64 inputs, 1024 outputs\n",
    "    'wd1': tf.Variable(tf.random_normal([7*7*64, 1024])),\n",
    "    # 1024 inputs, 10 outputs (class prediction)\n",
    "    'out': tf.Variable(tf.random_normal([1024, n_classes]))\n",
    "}\n",
    "\n",
    "biases = {\n",
    "    'bc1': tf.Variable(tf.random_normal([32])),\n",
    "    'bc2': tf.Variable(tf.random_normal([64])),\n",
    "    'bd1': tf.Variable(tf.random_normal([1024])),\n",
    "    'out': tf.Variable(tf.random_normal([n_classes]))\n",
    "}"
   ]
  },
  {
   "cell_type": "code",
   "execution_count": 23,
   "metadata": {
    "collapsed": true
   },
   "outputs": [],
   "source": [
    "pred = conv_net(x, weights, biases, keep_prob)\n",
    "\n",
    "# Define loss and optimizer\n",
    "cost = tf.reduce_mean(tf.nn.softmax_cross_entropy_with_logits(logits=pred, labels=y))\n",
    "optm = tf.train.AdamOptimizer(learning_rate=learning_rate).minimize(cost)\n",
    "\n",
    "# Evaluate model\n",
    "correct_pred = tf.equal(tf.argmax(pred, 1), tf.argmax(y, 1))\n",
    "accr = tf.reduce_mean(tf.cast(correct_pred, tf.float32))\n",
    "\n",
    "saver = tf.train.Saver()"
   ]
  },
  {
   "cell_type": "code",
   "execution_count": 25,
   "metadata": {
    "collapsed": false
   },
   "outputs": [
    {
     "name": "stdout",
     "output_type": "stream",
     "text": [
      "step: 000/200 cost: 65787.656250000 train_acc: 0.062 test_acc: 0.081\n",
      "step: 010/200 cost: 22077.402343750 train_acc: 0.320 test_acc: 0.230\n",
      "step: 020/200 cost: 11352.830078125 train_acc: 0.484 test_acc: 0.501\n",
      "step: 030/200 cost: 7692.818847656 train_acc: 0.648 test_acc: 0.636\n",
      "step: 040/200 cost: 4532.322265625 train_acc: 0.711 test_acc: 0.726\n",
      "step: 050/200 cost: 3397.919921875 train_acc: 0.727 test_acc: 0.772\n",
      "step: 060/200 cost: 3862.547851562 train_acc: 0.727 test_acc: 0.798\n",
      "step: 070/200 cost: 971.943847656 train_acc: 0.906 test_acc: 0.828\n",
      "step: 080/200 cost: 2036.701416016 train_acc: 0.859 test_acc: 0.842\n",
      "step: 090/200 cost: 2412.441894531 train_acc: 0.867 test_acc: 0.848\n",
      "step: 100/200 cost: 2633.680664062 train_acc: 0.828 test_acc: 0.856\n",
      "step: 110/200 cost: 3356.569335938 train_acc: 0.820 test_acc: 0.866\n",
      "step: 120/200 cost: 1631.283691406 train_acc: 0.867 test_acc: 0.865\n",
      "step: 130/200 cost: 1812.924804688 train_acc: 0.875 test_acc: 0.872\n",
      "step: 140/200 cost: 1805.681030273 train_acc: 0.875 test_acc: 0.880\n",
      "step: 150/200 cost: 1749.826904297 train_acc: 0.898 test_acc: 0.886\n",
      "step: 160/200 cost: 751.668029785 train_acc: 0.922 test_acc: 0.892\n",
      "step: 170/200 cost: 1887.989624023 train_acc: 0.859 test_acc: 0.892\n",
      "step: 180/200 cost: 851.297729492 train_acc: 0.914 test_acc: 0.905\n",
      "step: 190/200 cost: 1530.070922852 train_acc: 0.875 test_acc: 0.902\n",
      "DONE\n"
     ]
    }
   ],
   "source": [
    "display_step = 10\n",
    "\n",
    "with tf.Session() as sess:\n",
    "    tf.global_variables_initializer().run()\n",
    "    for i in range(training_iters): \n",
    "        batch_xs, batch_ys = mnist.train.next_batch(batch_size)\n",
    "        sess.run(optm, feed_dict={x: batch_xs, y: batch_ys, keep_prob: 1. })\n",
    "        feeds = {x: batch_xs, y: batch_ys, keep_prob: 1.}\n",
    "        cost_value = sess.run(cost, feed_dict=feeds)\n",
    "    \n",
    "    \n",
    "    # DISPLAY\n",
    "        if i % display_step == 0:\n",
    "            feeds_train = {x: batch_xs, y: batch_ys, keep_prob: 1. }\n",
    "            feeds_test = {x: mnist.test.images, y: mnist.test.labels, keep_prob: 1. }\n",
    "            train_acc = sess.run(accr, feed_dict=feeds_train)\n",
    "            test_acc = sess.run(accr, feed_dict=feeds_test)\n",
    "            print (\"step: %03d/%03d cost: %.9f train_acc: %.3f test_acc: %.3f\" \n",
    "                % (i, training_iters, cost_value, train_acc, test_acc))\n",
    "    \n",
    "    save_path = saver.save(sess, \"/tmp/model.ckpt\")\n",
    "    print(\"Model saved in file: %s\" % save_path)\n",
    "\n",
    "    \n",
    "print (\"DONE\")\n"
   ]
  },
  {
   "cell_type": "code",
   "execution_count": null,
   "metadata": {
    "collapsed": true
   },
   "outputs": [],
   "source": [
    "with tf.Session() as sess:\n",
    "  # Restore variables from disk.\n",
    "   saver.restore(sess, \"/tmp/model.ckpt\")\n",
    "   print(\"Model restored.\")\n"
   ]
  },
  {
   "cell_type": "code",
   "execution_count": null,
   "metadata": {
    "collapsed": true
   },
   "outputs": [],
   "source": []
  }
 ],
 "metadata": {
  "anaconda-cloud": {},
  "kernelspec": {
   "display_name": "Python [default]",
   "language": "python",
   "name": "python2"
  },
  "language_info": {
   "codemirror_mode": {
    "name": "ipython",
    "version": 2
   },
   "file_extension": ".py",
   "mimetype": "text/x-python",
   "name": "python",
   "nbconvert_exporter": "python",
   "pygments_lexer": "ipython2",
   "version": "2.7.12"
  }
 },
 "nbformat": 4,
 "nbformat_minor": 0
}
