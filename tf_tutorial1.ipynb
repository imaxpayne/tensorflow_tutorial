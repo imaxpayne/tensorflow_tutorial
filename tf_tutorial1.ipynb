{
 "cells": [
  {
   "cell_type": "markdown",
   "metadata": {},
   "source": [
    "# Hello World for Tensorflow\n",
    "\n",
    "This is the first introduction on tensorflow for RVL224 students.\n",
    "\n",
    "In this section, you will learn:\n",
    "\n",
    "* Basic concept on how tensorflow works.\n",
    "* How to perform simple computations using tensorflow.\n",
    "\n",
    "\n",
    "## The Computational Graph\n",
    "\n",
    "It takes two steps to build a tensorflow program:\n",
    "\n",
    "1.Building the computational graph.\n",
    "\n",
    "2.Running the computational graph.\n",
    "\n",
    "A **computational graph** is a series of TensorFlow operations arranged into a graph of nodes. For example, the figure shownd below is a simple graph that perform summation on two constants, it consist of three nodes, two nodes store the constant and one node store the output of the sum.\n",
    "\n",
    "\n",
    "<img src=\"https://www.tensorflow.org/images/getting_started_add.png\" width=\"269\" height=\"130\" />\n",
    "\n",
    "Let's build a simple computational graph that perform ```y = 3.0+4.0``` using tensorflow."
   ]
  },
  {
   "cell_type": "code",
   "execution_count": 2,
   "metadata": {
    "collapsed": true
   },
   "outputs": [],
   "source": [
    "import tensorflow as tf\n",
    "\n",
    "node1 = tf.constant(3.0, tf.float32) # create a node that store a constant 3.0\n",
    "node2 = tf.constant(4.0) # also tf.float32 implicitly\n",
    "\n",
    "node3 = tf.add(node1, node2) "
   ]
  },
  {
   "cell_type": "code",
   "execution_count": 3,
   "metadata": {
    "collapsed": false
   },
   "outputs": [
    {
     "name": "stdout",
     "output_type": "stream",
     "text": [
      "Tensor(\"Const_2:0\", shape=(), dtype=float32)\n",
      "Tensor(\"Const_3:0\", shape=(), dtype=float32)\n",
      "Tensor(\"Add_1:0\", shape=(), dtype=float32)\n"
     ]
    }
   ],
   "source": [
    "print node1\n",
    "print node2\n",
    "print node3"
   ]
  },
  {
   "cell_type": "markdown",
   "metadata": {},
   "source": [
    "Note that printing the nodes does not output the values as you expected, it only shows the propety of the node, to actually evaluate the value inside each node, we must run the computational graph within **Session**.\n"
   ]
  },
  {
   "cell_type": "code",
   "execution_count": 4,
   "metadata": {
    "collapsed": false
   },
   "outputs": [
    {
     "name": "stdout",
     "output_type": "stream",
     "text": [
      "[3.0, 4.0]\n",
      "7.0\n"
     ]
    }
   ],
   "source": [
    "sess = tf.Session() # create a Session object\n",
    "print(sess.run([node1, node2])) # evaluate the value using .run method\n",
    "print(sess.run(node3))"
   ]
  },
  {
   "cell_type": "markdown",
   "metadata": {},
   "source": [
    "What if you want to create a graph that perform summation on two variables, \n",
    "\n",
    "for example:  ```y = a + b``` ?\n",
    "\n",
    "We can use **placeholder** to define a variable node so that it can accept external input lately."
   ]
  },
  {
   "cell_type": "code",
   "execution_count": 5,
   "metadata": {
    "collapsed": true
   },
   "outputs": [],
   "source": [
    "a = tf.placeholder(tf.float32) # define a variable \n",
    "b = tf.placeholder(tf.float32)\n",
    "adder_node = a + b  # + provides a shortcut for tf.add(a, b)"
   ]
  },
  {
   "cell_type": "code",
   "execution_count": 13,
   "metadata": {
    "collapsed": false
   },
   "outputs": [
    {
     "name": "stdout",
     "output_type": "stream",
     "text": [
      "7.5\n",
      "[ 3.  7.]\n"
     ]
    }
   ],
   "source": [
    "print(sess.run(adder_node, {a: 3, b:4.5})) # feed variable 'a' with 3 and 'b' with 4.5\n",
    "print(sess.run(adder_node, {a: [1,3], b: [2, 4]}))"
   ]
  },
  {
   "cell_type": "markdown",
   "metadata": {},
   "source": [
    "The graph above looks like this:\n",
    "<img src=\"https://www.tensorflow.org/images/getting_started_adder.png\" width=\"243\" height=\"207\" />"
   ]
  },
  {
   "cell_type": "markdown",
   "metadata": {},
   "source": [
    "We can make the computational graph more complex by adding another operation. For example,"
   ]
  },
  {
   "cell_type": "code",
   "execution_count": 15,
   "metadata": {
    "collapsed": false
   },
   "outputs": [
    {
     "name": "stdout",
     "output_type": "stream",
     "text": [
      "22.5\n"
     ]
    }
   ],
   "source": [
    "add_and_triple = adder_node * 3.\n",
    "print(sess.run(add_and_triple, {a: 3, b:4.5}))"
   ]
  },
  {
   "cell_type": "markdown",
   "metadata": {},
   "source": [
    "Now the whole computational graph would look as follows:\n",
    "\n",
    "<img src=\"https://www.tensorflow.org/images/getting_started_triple.png\" width=\"280\" height=\"337\" />"
   ]
  },
  {
   "cell_type": "markdown",
   "metadata": {
    "collapsed": true
   },
   "source": [
    "## exercise 1\n",
    "\n",
    "please construct a graph that perform:\n",
    "\n",
    "$$\n",
    "f(x) = \\frac{1}{\\exp(x^{-1})}\n",
    "$$\n",
    "\n",
    "and run the graph in a session. \n",
    "\n",
    "x will be a vector of any length."
   ]
  },
  {
   "cell_type": "code",
   "execution_count": null,
   "metadata": {
    "collapsed": true
   },
   "outputs": [],
   "source": []
  },
  {
   "cell_type": "markdown",
   "metadata": {},
   "source": [
    "## exercise 2\n",
    "\n",
    "please construct a graph that perform inner product of two 1D vectors and run the graph in a session."
   ]
  },
  {
   "cell_type": "code",
   "execution_count": null,
   "metadata": {
    "collapsed": true
   },
   "outputs": [],
   "source": []
  }
 ],
 "metadata": {
  "kernelspec": {
   "display_name": "Python 2",
   "language": "python",
   "name": "python2"
  },
  "language_info": {
   "codemirror_mode": {
    "name": "ipython",
    "version": 2
   },
   "file_extension": ".py",
   "mimetype": "text/x-python",
   "name": "python",
   "nbconvert_exporter": "python",
   "pygments_lexer": "ipython2",
   "version": "2.7.12"
  }
 },
 "nbformat": 4,
 "nbformat_minor": 1
}
